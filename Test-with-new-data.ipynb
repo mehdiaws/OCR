{
 "cells": [
  {
   "cell_type": "markdown",
   "metadata": {},
   "source": [
    "# This notebook takes data prepared in Prep-data.ipynb, trains a Keras model for image classification, and then applies the model on test data. It also saves model for deployment to Sagemaker"
   ]
  },
  {
   "cell_type": "code",
   "execution_count": 61,
   "metadata": {},
   "outputs": [],
   "source": [
    "!rm -rf keras_results/"
   ]
  },
  {
   "cell_type": "code",
   "execution_count": 22,
   "metadata": {
    "scrolled": true
   },
   "outputs": [],
   "source": [
    "import matplotlib.pyplot as plt\n",
    "import os\n",
    "import cv2\n",
    "import numpy as np\n",
    "import tensorflow as tf\n",
    "from keras.models import Sequential\n",
    "from keras.layers import Dense, Conv2D, Dropout, Flatten, MaxPooling2D, BatchNormalization, MaxPool2D\n",
    "from keras.callbacks import LearningRateScheduler\n",
    "from sklearn.model_selection import train_test_split\n",
    "from keras.preprocessing.image import ImageDataGenerator\n",
    "from keras.layers.core import Dense, Dropout, Activation\n",
    "\n",
    "import boto3, re\n",
    "from sagemaker import get_execution_role\n",
    "\n",
    "role = get_execution_role()\n",
    "\n",
    "import keras\n",
    "from keras.models import model_from_json\n",
    "\n",
    "\n",
    "from tensorflow.python.saved_model import builder\n",
    "from tensorflow.python.saved_model.signature_def_utils import predict_signature_def\n",
    "from tensorflow.python.saved_model import tag_constants\n",
    "\n",
    "import json\n",
    "import sagemaker\n",
    "\n",
    "sagemaker_session = sagemaker.Session()\n",
    "\n",
    "from keras import backend as K\n",
    "\n",
    "from sagemaker.tensorflow.model import TensorFlowModel\n",
    "\n",
    "\n",
    "\n",
    "def get_file_path_list(path):  \n",
    "    full_path_list = []\n",
    "    for path, subdirs, files in os.walk(path):\n",
    "        for filename in files:\n",
    "            f = os.path.join(path, filename)\n",
    "            full_path_list.append(f)\n",
    "    return full_path_list"
   ]
  },
  {
   "cell_type": "code",
   "execution_count": 250,
   "metadata": {},
   "outputs": [],
   "source": [
    "# latest data before SPD\n",
    "# x_train = np.load('x_train_comb_clean_120k_shift1.npy') # load\n",
    "# y_train = np.load('y_train_comb_clean_120k_shift1.npy') # load\n",
    "\n",
    "# x_test = np.load('x_test_comb_clean_120k_shift1.npy') # load\n",
    "# y_test = np.load('y_test_comb_clean_120k_shift1.npy') # load\n",
    "\n",
    "\n",
    "# x_train = np.load('x_train_new_spd_200k.npy') # load\n",
    "# y_train = np.load('y_train_new_spd_200k.npy') # load\n",
    "\n",
    "# x_test = np.load('x_test_new_spd_200k.npy') # load\n",
    "# y_test = np.load('y_test_new_spd_200k.npy') # load\n",
    "\n",
    "x_train = np.load('x_train_new_spd_300k.npy') # load\n",
    "y_train = np.load('y_train_new_spd_300k.npy') # load\n",
    "\n",
    "x_test = np.load('x_test_new_spd_300k.npy') # load\n",
    "y_test = np.load('y_test_new_spd_300k.npy') # load"
   ]
  },
  {
   "cell_type": "code",
   "execution_count": 251,
   "metadata": {},
   "outputs": [
    {
     "name": "stdout",
     "output_type": "stream",
     "text": [
      "X_train shape (309770, 28, 28, 1)\n",
      "y_train shape (309770,)\n",
      "X_test shape (89905, 28, 28, 1)\n",
      "y_test shape (89905,)\n",
      "Train matrix shape (309770, 784)\n",
      "Test matrix shape (89905, 784)\n"
     ]
    }
   ],
   "source": [
    "# let's print the shape before we reshape and normalize\n",
    "print(\"X_train shape\", x_train.shape)\n",
    "print(\"y_train shape\", y_train.shape)\n",
    "print(\"X_test shape\", x_test.shape)\n",
    "print(\"y_test shape\", y_test.shape)\n",
    "\n",
    "# building the input vector from the 28x28 pixels\n",
    "x_train = x_train.reshape(x_train.shape[0], 784)\n",
    "x_test = x_test.reshape(x_test.shape[0], 784)\n",
    "x_train = x_train.astype('float32')\n",
    "x_test = x_test.astype('float32')\n",
    "\n",
    "# print the final input shape ready for training\n",
    "print(\"Train matrix shape\", x_train.shape)\n",
    "print(\"Test matrix shape\", x_test.shape)\n"
   ]
  },
  {
   "cell_type": "code",
   "execution_count": 252,
   "metadata": {
    "scrolled": true
   },
   "outputs": [
    {
     "name": "stdout",
     "output_type": "stream",
     "text": [
      "Train on 309770 samples, validate on 89905 samples\n",
      "Epoch 1/40\n",
      " - 49s - loss: 1.4255 - accuracy: 0.5206 - val_loss: 1.0334 - val_accuracy: 0.6597\n",
      "Epoch 2/40\n",
      " - 48s - loss: 0.9425 - accuracy: 0.6902 - val_loss: 0.7771 - val_accuracy: 0.7468\n",
      "Epoch 3/40\n",
      " - 48s - loss: 0.7767 - accuracy: 0.7445 - val_loss: 0.6525 - val_accuracy: 0.7853\n",
      "Epoch 4/40\n",
      " - 48s - loss: 0.6787 - accuracy: 0.7766 - val_loss: 0.5738 - val_accuracy: 0.8150\n",
      "Epoch 5/40\n",
      " - 48s - loss: 0.6105 - accuracy: 0.8003 - val_loss: 0.5290 - val_accuracy: 0.8306\n",
      "Epoch 6/40\n",
      " - 48s - loss: 0.5638 - accuracy: 0.8153 - val_loss: 0.4419 - val_accuracy: 0.8608\n",
      "Epoch 7/40\n",
      " - 48s - loss: 0.5272 - accuracy: 0.8275 - val_loss: 0.4161 - val_accuracy: 0.8710\n",
      "Epoch 8/40\n",
      " - 48s - loss: 0.4974 - accuracy: 0.8374 - val_loss: 0.3977 - val_accuracy: 0.8761\n",
      "Epoch 9/40\n",
      " - 48s - loss: 0.4791 - accuracy: 0.8429 - val_loss: 0.4066 - val_accuracy: 0.8725\n",
      "Epoch 10/40\n",
      " - 48s - loss: 0.4610 - accuracy: 0.8486 - val_loss: 0.3533 - val_accuracy: 0.8921\n",
      "Epoch 11/40\n",
      " - 48s - loss: 0.4439 - accuracy: 0.8539 - val_loss: 0.3418 - val_accuracy: 0.8950\n",
      "Epoch 12/40\n",
      " - 48s - loss: 0.4315 - accuracy: 0.8588 - val_loss: 0.3463 - val_accuracy: 0.8942\n",
      "Epoch 13/40\n",
      " - 48s - loss: 0.4183 - accuracy: 0.8619 - val_loss: 0.3219 - val_accuracy: 0.9031\n",
      "Epoch 14/40\n",
      " - 48s - loss: 0.4087 - accuracy: 0.8660 - val_loss: 0.3263 - val_accuracy: 0.9024\n",
      "Epoch 15/40\n",
      " - 48s - loss: 0.3982 - accuracy: 0.8689 - val_loss: 0.3150 - val_accuracy: 0.9039\n",
      "Epoch 16/40\n",
      " - 49s - loss: 0.3876 - accuracy: 0.8732 - val_loss: 0.3066 - val_accuracy: 0.9078\n",
      "Epoch 17/40\n",
      " - 48s - loss: 0.3806 - accuracy: 0.8749 - val_loss: 0.3017 - val_accuracy: 0.9089\n",
      "Epoch 18/40\n",
      " - 48s - loss: 0.3727 - accuracy: 0.8770 - val_loss: 0.2813 - val_accuracy: 0.9179\n",
      "Epoch 19/40\n",
      " - 48s - loss: 0.3694 - accuracy: 0.8789 - val_loss: 0.2925 - val_accuracy: 0.9131\n",
      "Epoch 20/40\n",
      " - 48s - loss: 0.3627 - accuracy: 0.8808 - val_loss: 0.2964 - val_accuracy: 0.9105\n",
      "Epoch 21/40\n",
      " - 48s - loss: 0.3562 - accuracy: 0.8825 - val_loss: 0.3158 - val_accuracy: 0.9016\n",
      "Epoch 22/40\n",
      " - 48s - loss: 0.3506 - accuracy: 0.8842 - val_loss: 0.2793 - val_accuracy: 0.9177\n",
      "Epoch 23/40\n",
      " - 48s - loss: 0.3441 - accuracy: 0.8874 - val_loss: 0.2810 - val_accuracy: 0.9162\n",
      "Epoch 24/40\n",
      " - 48s - loss: 0.3414 - accuracy: 0.8889 - val_loss: 0.2862 - val_accuracy: 0.9154\n",
      "Epoch 25/40\n",
      " - 48s - loss: 0.3355 - accuracy: 0.8900 - val_loss: 0.2640 - val_accuracy: 0.9214\n",
      "Epoch 26/40\n",
      " - 48s - loss: 0.3318 - accuracy: 0.8914 - val_loss: 0.2595 - val_accuracy: 0.9238\n",
      "Epoch 27/40\n",
      " - 48s - loss: 0.3308 - accuracy: 0.8912 - val_loss: 0.2639 - val_accuracy: 0.9235\n",
      "Epoch 28/40\n",
      " - 48s - loss: 0.3254 - accuracy: 0.8937 - val_loss: 0.2738 - val_accuracy: 0.9214\n",
      "Epoch 29/40\n",
      " - 48s - loss: 0.3224 - accuracy: 0.8939 - val_loss: 0.2663 - val_accuracy: 0.9207\n",
      "Epoch 30/40\n",
      " - 48s - loss: 0.3174 - accuracy: 0.8962 - val_loss: 0.2564 - val_accuracy: 0.9247\n",
      "Epoch 31/40\n",
      " - 48s - loss: 0.3169 - accuracy: 0.8956 - val_loss: 0.2572 - val_accuracy: 0.9273\n",
      "Epoch 32/40\n",
      " - 48s - loss: 0.3103 - accuracy: 0.8989 - val_loss: 0.2667 - val_accuracy: 0.9206\n",
      "Epoch 33/40\n",
      " - 48s - loss: 0.3104 - accuracy: 0.8982 - val_loss: 0.2563 - val_accuracy: 0.9252\n",
      "Epoch 34/40\n",
      " - 48s - loss: 0.3075 - accuracy: 0.8986 - val_loss: 0.2489 - val_accuracy: 0.9270\n",
      "Epoch 35/40\n",
      " - 48s - loss: 0.3033 - accuracy: 0.9004 - val_loss: 0.2478 - val_accuracy: 0.9273\n",
      "Epoch 36/40\n",
      " - 48s - loss: 0.3022 - accuracy: 0.9011 - val_loss: 0.2392 - val_accuracy: 0.9331\n",
      "Epoch 37/40\n",
      " - 48s - loss: 0.2990 - accuracy: 0.9021 - val_loss: 0.2402 - val_accuracy: 0.9313\n",
      "Epoch 38/40\n",
      " - 48s - loss: 0.2969 - accuracy: 0.9026 - val_loss: 0.2477 - val_accuracy: 0.9269\n",
      "Epoch 39/40\n",
      " - 48s - loss: 0.2926 - accuracy: 0.9038 - val_loss: 0.2408 - val_accuracy: 0.9289\n",
      "Epoch 40/40\n",
      " - 48s - loss: 0.2918 - accuracy: 0.9049 - val_loss: 0.2297 - val_accuracy: 0.9342\n"
     ]
    }
   ],
   "source": [
    "###. NEW  ###. \n",
    "\n",
    "# building a linear stack of layers with the sequential model\n",
    "model = Sequential()\n",
    "model.add(Dense(512, input_shape=(784,)))\n",
    "model.add(Activation('relu'))                            \n",
    "model.add(Dropout(0.2))\n",
    "\n",
    "model.add(Dense(512))\n",
    "model.add(Activation('relu'))\n",
    "model.add(Dropout(0.2))\n",
    "\n",
    "# model.add(Dense(10))\n",
    "model.add(Dense(11))\n",
    "model.add(Activation('softmax'))\n",
    "\n",
    "model.compile(optimizer='adam', \n",
    "              loss='sparse_categorical_crossentropy', \n",
    "              metrics=['accuracy'])\n",
    "\n",
    "history = model.fit(x_train, y_train,\n",
    "          epochs=40,\n",
    "          verbose=2,\n",
    "          validation_data=(x_test, y_test))"
   ]
  },
  {
   "cell_type": "code",
   "execution_count": null,
   "metadata": {
    "scrolled": true
   },
   "outputs": [
    {
     "name": "stdout",
     "output_type": "stream",
     "text": [
      "Train on 309770 samples, validate on 89905 samples\n",
      "Epoch 1/20\n",
      " - 48s - loss: 0.2595 - accuracy: 0.9147 - val_loss: 0.2139 - val_accuracy: 0.9380\n",
      "Epoch 2/20\n",
      " - 48s - loss: 0.2598 - accuracy: 0.9149 - val_loss: 0.2216 - val_accuracy: 0.9364\n",
      "Epoch 3/20\n",
      " - 48s - loss: 0.2590 - accuracy: 0.9151 - val_loss: 0.2063 - val_accuracy: 0.9417\n",
      "Epoch 4/20\n",
      " - 48s - loss: 0.2561 - accuracy: 0.9157 - val_loss: 0.2135 - val_accuracy: 0.9403\n",
      "Epoch 5/20\n",
      " - 48s - loss: 0.2575 - accuracy: 0.9160 - val_loss: 0.2115 - val_accuracy: 0.9385\n",
      "Epoch 6/20\n",
      " - 48s - loss: 0.2552 - accuracy: 0.9166 - val_loss: 0.2092 - val_accuracy: 0.9428\n",
      "Epoch 7/20\n",
      " - 48s - loss: 0.2557 - accuracy: 0.9162 - val_loss: 0.2144 - val_accuracy: 0.9385\n",
      "Epoch 8/20\n",
      " - 48s - loss: 0.2528 - accuracy: 0.9172 - val_loss: 0.2088 - val_accuracy: 0.9406\n",
      "Epoch 9/20\n",
      " - 48s - loss: 0.2539 - accuracy: 0.9166 - val_loss: 0.2228 - val_accuracy: 0.9345\n",
      "Epoch 10/20\n",
      " - 48s - loss: 0.2498 - accuracy: 0.9179 - val_loss: 0.2032 - val_accuracy: 0.9435\n",
      "Epoch 11/20\n",
      " - 48s - loss: 0.2491 - accuracy: 0.9183 - val_loss: 0.2076 - val_accuracy: 0.9428\n",
      "Epoch 12/20\n",
      " - 48s - loss: 0.2496 - accuracy: 0.9182 - val_loss: 0.2093 - val_accuracy: 0.9392\n",
      "Epoch 13/20\n",
      " - 48s - loss: 0.2479 - accuracy: 0.9185 - val_loss: 0.2052 - val_accuracy: 0.9388\n",
      "Epoch 14/20\n",
      " - 48s - loss: 0.2481 - accuracy: 0.9190 - val_loss: 0.2116 - val_accuracy: 0.9393\n",
      "Epoch 15/20\n",
      " - 48s - loss: 0.2460 - accuracy: 0.9194 - val_loss: 0.2083 - val_accuracy: 0.9408\n",
      "Epoch 16/20\n"
     ]
    }
   ],
   "source": [
    "history = model.fit(x_train, y_train,\n",
    "          epochs=20,\n",
    "          verbose=2,\n",
    "          validation_data=(x_test, y_test))"
   ]
  },
  {
   "cell_type": "code",
   "execution_count": 272,
   "metadata": {},
   "outputs": [
    {
     "data": {
      "text/plain": [
       "0.9365079365079365"
      ]
     },
     "execution_count": 272,
     "metadata": {},
     "output_type": "execute_result"
    }
   ],
   "source": [
    "59/63"
   ]
  },
  {
   "cell_type": "code",
   "execution_count": 273,
   "metadata": {},
   "outputs": [
    {
     "data": {
      "image/png": "[encoded data removed]",
      "text/plain": [
       "<Figure size 432x288 with 2 Axes>"
      ]
     },
     "metadata": {},
     "output_type": "display_data"
    }
   ],
   "source": [
    "# saving the model\n",
    "# save_dir = \"keras_results/\"\n",
    "# model_name = 'keras_mnist.h5'\n",
    "# model_path = os.path.join(save_dir, model_name)\n",
    "# model.save(model_path)\n",
    "# print('Saved trained model at %s ' % model_path)\n",
    "\n",
    "# plotting the metrics\n",
    "fig = plt.figure()\n",
    "plt.subplot(2,1,1)\n",
    "plt.plot(history.history['accuracy'])\n",
    "plt.plot(history.history['val_accuracy'])\n",
    "plt.title('model accuracy')\n",
    "plt.ylabel('accuracy')\n",
    "plt.xlabel('epoch')\n",
    "plt.legend(['train', 'test'], loc='lower right')\n",
    "\n",
    "plt.subplot(2,1,2)\n",
    "plt.plot(history.history['loss'])\n",
    "plt.plot(history.history['val_loss'])\n",
    "plt.title('model loss')\n",
    "plt.ylabel('loss')\n",
    "plt.xlabel('epoch')\n",
    "plt.legend(['train', 'test'], loc='upper right')\n",
    "\n",
    "plt.tight_layout()"
   ]
  },
  {
   "cell_type": "code",
   "execution_count": 95,
   "metadata": {},
   "outputs": [
    {
     "name": "stdout",
     "output_type": "stream",
     "text": [
      "53152/53152 [==============================] - 2s 29us/step\n"
     ]
    },
    {
     "data": {
      "text/plain": [
       "[0.248957134534948, 0.9472079873085022]"
      ]
     },
     "execution_count": 95,
     "metadata": {},
     "output_type": "execute_result"
    }
   ],
   "source": [
    "model.evaluate(x_test, y_test)"
   ]
  },
  {
   "cell_type": "markdown",
   "metadata": {},
   "source": [
    "# New data test"
   ]
  },
  {
   "cell_type": "code",
   "execution_count": 125,
   "metadata": {
    "scrolled": true
   },
   "outputs": [
    {
     "ename": "ValueError",
     "evalue": "invalid literal for int() with base 10: '30.png'",
     "output_type": "error",
     "traceback": [
      "\u001b[0;31m---------------------------------------------------------------------------\u001b[0m",
      "\u001b[0;31mValueError\u001b[0m                                Traceback (most recent call last)",
      "\u001b[0;32m<ipython-input-125-806afdef2a62>\u001b[0m in \u001b[0;36m<module>\u001b[0;34m()\u001b[0m\n\u001b[1;32m     19\u001b[0m \u001b[0;31m#     pred = model.predict(im_gray.reshape(1, 28, 28, 1))\u001b[0m\u001b[0;34m\u001b[0m\u001b[0;34m\u001b[0m\u001b[0m\n\u001b[1;32m     20\u001b[0m \u001b[0;34m\u001b[0m\u001b[0m\n\u001b[0;32m---> 21\u001b[0;31m     \u001b[0;32mif\u001b[0m \u001b[0mpred\u001b[0m\u001b[0;34m.\u001b[0m\u001b[0margmax\u001b[0m\u001b[0;34m(\u001b[0m\u001b[0;34m)\u001b[0m\u001b[0;34m!=\u001b[0m \u001b[0mint\u001b[0m\u001b[0;34m(\u001b[0m\u001b[0mf\u001b[0m\u001b[0;34m.\u001b[0m\u001b[0msplit\u001b[0m\u001b[0;34m(\u001b[0m\u001b[0;34m'/'\u001b[0m\u001b[0;34m)\u001b[0m\u001b[0;34m[\u001b[0m\u001b[0;34m-\u001b[0m\u001b[0;36m1\u001b[0m\u001b[0;34m]\u001b[0m\u001b[0;34m.\u001b[0m\u001b[0msplit\u001b[0m\u001b[0;34m(\u001b[0m\u001b[0;34m'-'\u001b[0m\u001b[0;34m)\u001b[0m\u001b[0;34m[\u001b[0m\u001b[0;36m0\u001b[0m\u001b[0;34m]\u001b[0m\u001b[0;34m)\u001b[0m\u001b[0;34m:\u001b[0m\u001b[0;34m\u001b[0m\u001b[0m\n\u001b[0m\u001b[1;32m     22\u001b[0m \u001b[0;31m#         correct+=1\u001b[0m\u001b[0;34m\u001b[0m\u001b[0;34m\u001b[0m\u001b[0m\n\u001b[1;32m     23\u001b[0m         \u001b[0mplt\u001b[0m\u001b[0;34m.\u001b[0m\u001b[0mfigure\u001b[0m\u001b[0;34m(\u001b[0m\u001b[0;34m)\u001b[0m\u001b[0;34m\u001b[0m\u001b[0m\n",
      "\u001b[0;31mValueError\u001b[0m: invalid literal for int() with base 10: '30.png'"
     ]
    }
   ],
   "source": [
    "############################\n",
    "image_files = get_file_path_list('test_combined')\n",
    "\n",
    "image_files = get_file_path_list('../Extract-Cells/saved-images/')\n",
    "\n",
    "correct = 0\n",
    "for f in image_files:\n",
    "    im_gray = cv2.imread(f)\n",
    "    im_gray = cv2.cvtColor(im_gray, cv2.COLOR_BGR2GRAY)\n",
    "#     im_gray = border(im_gray, 5) #########\n",
    "\n",
    "    im_gray = im_gray/255\n",
    "    dim = (28, 28)\n",
    "    im_gray = cv2.resize(im_gray, dim, interpolation = cv2.INTER_AREA)\n",
    "    im_gray = im_gray.astype('float32')\n",
    "\n",
    "    im_gray =im_gray.reshape(1, 28, 28)\n",
    "    pred = model.predict(im_gray.reshape(1, 784))\n",
    "#     pred = model.predict(im_gray.reshape(1, 28, 28, 1))\n",
    "\n",
    "    if pred.argmax()!= int(f.split('/')[-1].split('-')[0]):\n",
    "#         correct+=1\n",
    "        plt.figure()\n",
    "        plt.imshow(im_gray.reshape(28, 28),cmap='Greys')\n",
    "        print(pred.argmax())\n",
    "        print(f)\n",
    "    if pred.argmax()== int(f.split('/')[-1].split('-')[0]):\n",
    "        correct+=1\n",
    "    \n",
    "    plt.show()"
   ]
  },
  {
   "cell_type": "code",
   "execution_count": 152,
   "metadata": {},
   "outputs": [],
   "source": [
    "im_gray = cv2.imread(f)\n",
    "im_gray = cv2.cvtColor(im_gray, cv2.COLOR_BGR2GRAY)"
   ]
  },
  {
   "cell_type": "code",
   "execution_count": 153,
   "metadata": {},
   "outputs": [
    {
     "data": {
      "text/plain": [
       "array([[255, 255, 255, ..., 255, 255, 255],\n",
       "       [255, 255, 255, ..., 255, 255, 255],\n",
       "       [255, 255, 255, ..., 255, 255, 255],\n",
       "       ...,\n",
       "       [255, 255, 255, ..., 255, 255, 255],\n",
       "       [255, 255, 255, ..., 255, 255, 255],\n",
       "       [255, 255, 255, ..., 255, 255, 255]], dtype=uint8)"
      ]
     },
     "execution_count": 153,
     "metadata": {},
     "output_type": "execute_result"
    }
   ],
   "source": [
    "im_gray"
   ]
  },
  {
   "cell_type": "code",
   "execution_count": 167,
   "metadata": {},
   "outputs": [
    {
     "name": "stdout",
     "output_type": "stream",
     "text": [
      "10\n",
      "test_march29/10-14.jpg\n"
     ]
    },
    {
     "data": {
      "image/png": "[encoded data removed]",
      "text/plain": [
       "<Figure size 432x288 with 1 Axes>"
      ]
     },
     "metadata": {},
     "output_type": "display_data"
    },
    {
     "name": "stdout",
     "output_type": "stream",
     "text": [
      "7\n",
      "test_march29/7-10.jpg\n"
     ]
    },
    {
     "data": {
      "image/png": "[encoded data removed]",
      "text/plain": [
       "<Figure size 432x288 with 1 Axes>"
      ]
     },
     "metadata": {},
     "output_type": "display_data"
    },
    {
     "name": "stdout",
     "output_type": "stream",
     "text": [
      "8\n",
      "test_march29/8-1000.jpg\n"
     ]
    },
    {
     "data": {
      "image/png": "[encoded data removed]",
      "text/plain": [
       "<Figure size 432x288 with 1 Axes>"
      ]
     },
     "metadata": {},
     "output_type": "display_data"
    },
    {
     "name": "stdout",
     "output_type": "stream",
     "text": [
      "4\n",
      "test_march29/7-9.jpg\n"
     ]
    },
    {
     "data": {
      "image/png": "[encoded data removed]",
      "text/plain": [
       "<Figure size 432x288 with 1 Axes>"
      ]
     },
     "metadata": {},
     "output_type": "display_data"
    },
    {
     "name": "stdout",
     "output_type": "stream",
     "text": [
      "10\n",
      "test_march29/10-19.jpg\n"
     ]
    },
    {
     "data": {
      "image/png": "[encoded data removed]",
      "text/plain": [
       "<Figure size 432x288 with 1 Axes>"
      ]
     },
     "metadata": {},
     "output_type": "display_data"
    },
    {
     "name": "stdout",
     "output_type": "stream",
     "text": [
      "7\n",
      "test_march29/7-12.jpg\n"
     ]
    },
    {
     "data": {
      "image/png": "[encoded data removed]",
      "text/plain": [
       "<Figure size 432x288 with 1 Axes>"
      ]
     },
     "metadata": {},
     "output_type": "display_data"
    },
    {
     "name": "stdout",
     "output_type": "stream",
     "text": [
      "10\n",
      "test_march29/10-20.jpg\n"
     ]
    },
    {
     "data": {
      "image/png": "[encoded data removed]",
      "text/plain": [
       "<Figure size 432x288 with 1 Axes>"
      ]
     },
     "metadata": {},
     "output_type": "display_data"
    },
    {
     "name": "stdout",
     "output_type": "stream",
     "text": [
      "8\n",
      "test_march29/8-996.jpg\n"
     ]
    },
    {
     "data": {
      "image/png": "[encoded data removed]",
      "text/plain": [
       "<Figure size 432x288 with 1 Axes>"
      ]
     },
     "metadata": {},
     "output_type": "display_data"
    },
    {
     "name": "stdout",
     "output_type": "stream",
     "text": [
      "7\n",
      "test_march29/7-8.jpg\n"
     ]
    },
    {
     "data": {
      "image/png": "[encoded data removed]",
      "text/plain": [
       "<Figure size 432x288 with 1 Axes>"
      ]
     },
     "metadata": {},
     "output_type": "display_data"
    },
    {
     "name": "stdout",
     "output_type": "stream",
     "text": [
      "8\n",
      "test_march29/8-997.jpg\n"
     ]
    },
    {
     "data": {
      "image/png": "[encoded data removed]",
      "text/plain": [
       "<Figure size 432x288 with 1 Axes>"
      ]
     },
     "metadata": {},
     "output_type": "display_data"
    },
    {
     "name": "stdout",
     "output_type": "stream",
     "text": [
      "0\n",
      "test_march29/0-2.jpg\n"
     ]
    },
    {
     "data": {
      "image/png": "[encoded data removed]",
      "text/plain": [
       "<Figure size 432x288 with 1 Axes>"
      ]
     },
     "metadata": {},
     "output_type": "display_data"
    },
    {
     "name": "stdout",
     "output_type": "stream",
     "text": [
      "7\n",
      "test_march29/7-11.jpg\n"
     ]
    },
    {
     "data": {
      "image/png": "[encoded data removed]",
      "text/plain": [
       "<Figure size 432x288 with 1 Axes>"
      ]
     },
     "metadata": {},
     "output_type": "display_data"
    },
    {
     "name": "stdout",
     "output_type": "stream",
     "text": [
      "10\n",
      "test_march29/10-18.jpg\n"
     ]
    },
    {
     "data": {
      "image/png": "[encoded data removed]",
      "text/plain": [
       "<Figure size 432x288 with 1 Axes>"
      ]
     },
     "metadata": {},
     "output_type": "display_data"
    },
    {
     "name": "stdout",
     "output_type": "stream",
     "text": [
      "0\n",
      "test_march29/0-3.jpg\n"
     ]
    },
    {
     "data": {
      "image/png": "[encoded data removed]",
      "text/plain": [
       "<Figure size 432x288 with 1 Axes>"
      ]
     },
     "metadata": {},
     "output_type": "display_data"
    },
    {
     "name": "stdout",
     "output_type": "stream",
     "text": [
      "8\n",
      "test_march29/8-999.jpg\n"
     ]
    },
    {
     "data": {
      "image/png": "[encoded data removed]",
      "text/plain": [
       "<Figure size 432x288 with 1 Axes>"
      ]
     },
     "metadata": {},
     "output_type": "display_data"
    },
    {
     "name": "stdout",
     "output_type": "stream",
     "text": [
      "0\n",
      "test_march29/0-5.jpg\n"
     ]
    },
    {
     "data": {
      "image/png": "[encoded data removed]",
      "text/plain": [
       "<Figure size 432x288 with 1 Axes>"
      ]
     },
     "metadata": {},
     "output_type": "display_data"
    },
    {
     "name": "stdout",
     "output_type": "stream",
     "text": [
      "10\n",
      "test_march29/10-15.jpg\n"
     ]
    },
    {
     "data": {
      "image/png": "[encoded data removed]",
      "text/plain": [
       "<Figure size 432x288 with 1 Axes>"
      ]
     },
     "metadata": {},
     "output_type": "display_data"
    },
    {
     "name": "stdout",
     "output_type": "stream",
     "text": [
      "10\n",
      "test_march29/10-17.jpg\n"
     ]
    },
    {
     "data": {
      "image/png": "[encoded data removed]",
      "text/plain": [
       "<Figure size 432x288 with 1 Axes>"
      ]
     },
     "metadata": {},
     "output_type": "display_data"
    },
    {
     "name": "stdout",
     "output_type": "stream",
     "text": [
      "0\n",
      "test_march29/0-4.jpg\n"
     ]
    },
    {
     "data": {
      "image/png": "[encoded data removed]",
      "text/plain": [
       "<Figure size 432x288 with 1 Axes>"
      ]
     },
     "metadata": {},
     "output_type": "display_data"
    },
    {
     "name": "stdout",
     "output_type": "stream",
     "text": [
      "10\n",
      "test_march29/10-16.jpg\n"
     ]
    },
    {
     "data": {
      "image/png": "[encoded data removed]",
      "text/plain": [
       "<Figure size 432x288 with 1 Axes>"
      ]
     },
     "metadata": {},
     "output_type": "display_data"
    },
    {
     "name": "stdout",
     "output_type": "stream",
     "text": [
      "8\n",
      "test_march29/8-998.jpg\n"
     ]
    },
    {
     "data": {
      "image/png": "[encoded data removed]",
      "text/plain": [
       "<Figure size 432x288 with 1 Axes>"
      ]
     },
     "metadata": {},
     "output_type": "display_data"
    }
   ],
   "source": [
    "############################\n",
    "image_files = get_file_path_list('test_combined')\n",
    "\n",
    "image_files = get_file_path_list('../Extract-Cells/saved-images/')\n",
    "image_files = get_file_path_list('test_march29')\n",
    "\n",
    "correct = 0\n",
    "for f in image_files:\n",
    "    im_gray = cv2.imread(f)\n",
    "    im_gray = cv2.cvtColor(im_gray, cv2.COLOR_BGR2GRAY)\n",
    "#     im_gray = border(im_gray, 5) #########\n",
    "\n",
    "#     im_gray = im_gray/(255)\n",
    "    im_gray = im_gray/(255*255)\n",
    "    dim = (28, 28)\n",
    "    im_gray = cv2.resize(im_gray, dim, interpolation = cv2.INTER_AREA)\n",
    "    im_gray = im_gray.astype('float32')\n",
    "\n",
    "#     im_gray =im_gray.reshape(1, 28, 28)\n",
    "    \n",
    "    pred = model.predict(im_gray.reshape(1, 784))\n",
    "#     pred = model.predict(im_gray.reshape(1, 28, 28, 1))\n",
    "\n",
    "\n",
    "    plt.figure()\n",
    "    plt.imshow(im_gray.reshape(28, 28),cmap='Greys')\n",
    "    print(pred.argmax())\n",
    "    print(f)\n",
    "\n",
    "    \n",
    "    plt.show()"
   ]
  },
  {
   "cell_type": "code",
   "execution_count": 168,
   "metadata": {},
   "outputs": [
    {
     "name": "stdout",
     "output_type": "stream",
     "text": [
      "5\n",
      "test_march29/8-998.jpg\n"
     ]
    },
    {
     "data": {
      "image/png": "[encoded data removed]",
      "text/plain": [
       "<Figure size 432x288 with 1 Axes>"
      ]
     },
     "metadata": {},
     "output_type": "display_data"
    }
   ],
   "source": [
    "img = x_test[12110]\n",
    "pred = model.predict(img.reshape(1, 784))\n",
    "#     pred = model.predict(im_gray.reshape(1, 28, 28, 1))\n",
    "\n",
    "\n",
    "plt.figure()\n",
    "plt.imshow(img.reshape(28, 28),cmap='Greys')\n",
    "print(pred.argmax())\n",
    "print(f)"
   ]
  },
  {
   "cell_type": "code",
   "execution_count": 127,
   "metadata": {},
   "outputs": [
    {
     "data": {
      "text/plain": [
       "array([[0.06953391, 0.1864274 , 0.04871943, 0.08537118, 0.09413139,\n",
       "        0.08901718, 0.05766905, 0.08601049, 0.04968429, 0.12138509,\n",
       "        0.11205051]], dtype=float32)"
      ]
     },
     "execution_count": 127,
     "metadata": {},
     "output_type": "execute_result"
    }
   ],
   "source": [
    "pred"
   ]
  },
  {
   "cell_type": "code",
   "execution_count": 121,
   "metadata": {},
   "outputs": [
    {
     "data": {
      "text/plain": [
       "160"
      ]
     },
     "execution_count": 121,
     "metadata": {},
     "output_type": "execute_result"
    }
   ],
   "source": [
    "len(image_files)"
   ]
  },
  {
   "cell_type": "code",
   "execution_count": 72,
   "metadata": {
    "scrolled": true
   },
   "outputs": [
    {
     "data": {
      "text/plain": [
       "0.9477124183006536"
      ]
     },
     "execution_count": 72,
     "metadata": {},
     "output_type": "execute_result"
    }
   ],
   "source": [
    "# No border, 100 epocks 300k\n",
    "correct/len(image_files)"
   ]
  },
  {
   "cell_type": "code",
   "execution_count": 97,
   "metadata": {},
   "outputs": [
    {
     "data": {
      "text/plain": [
       "0.9215686274509803"
      ]
     },
     "execution_count": 97,
     "metadata": {},
     "output_type": "execute_result"
    }
   ],
   "source": [
    "# No border, 80 epocks 300k\n",
    "correct/len(image_files)"
   ]
  },
  {
   "cell_type": "markdown",
   "metadata": {},
   "source": [
    "# 80 epochs 120k, no border"
   ]
  },
  {
   "cell_type": "code",
   "execution_count": 43,
   "metadata": {},
   "outputs": [
    {
     "data": {
      "text/plain": [
       "0.8921568627450981"
      ]
     },
     "execution_count": 43,
     "metadata": {},
     "output_type": "execute_result"
    }
   ],
   "source": [
    "correct/len(image_files)"
   ]
  },
  {
   "cell_type": "code",
   "execution_count": 47,
   "metadata": {},
   "outputs": [
    {
     "data": {
      "text/plain": [
       "0.8529411764705882"
      ]
     },
     "execution_count": 47,
     "metadata": {},
     "output_type": "execute_result"
    }
   ],
   "source": [
    "correct/len(image_files)"
   ]
  },
  {
   "cell_type": "code",
   "execution_count": null,
   "metadata": {},
   "outputs": [],
   "source": [
    "train with 80 not 120"
   ]
  },
  {
   "cell_type": "code",
   "execution_count": 88,
   "metadata": {},
   "outputs": [
    {
     "data": {
      "text/plain": [
       "0.9090909090909091"
      ]
     },
     "execution_count": 88,
     "metadata": {},
     "output_type": "execute_result"
    }
   ],
   "source": [
    "30/33"
   ]
  },
  {
   "cell_type": "markdown",
   "metadata": {},
   "source": [
    "# Save mode to be used by keras-tensorflow-model-deployment for Deployment"
   ]
  },
  {
   "cell_type": "code",
   "execution_count": 231,
   "metadata": {},
   "outputs": [],
   "source": [
    "!rm -rf ../keras_model"
   ]
  },
  {
   "cell_type": "code",
   "execution_count": 232,
   "metadata": {},
   "outputs": [],
   "source": [
    "!mkdir ../keras_model"
   ]
  },
  {
   "cell_type": "code",
   "execution_count": 233,
   "metadata": {},
   "outputs": [],
   "source": [
    "!ls ../keras_model"
   ]
  },
  {
   "cell_type": "code",
   "execution_count": 234,
   "metadata": {},
   "outputs": [],
   "source": [
    "json_string = model.to_json()"
   ]
  },
  {
   "cell_type": "code",
   "execution_count": 235,
   "metadata": {},
   "outputs": [],
   "source": [
    "with open('../keras_model/model.json', 'w') as fp:\n",
    "    # json.dump(result, fp, indent=4)\n",
    "    print(json_string, file=fp)"
   ]
  },
  {
   "cell_type": "code",
   "execution_count": 236,
   "metadata": {},
   "outputs": [
    {
     "name": "stdout",
     "output_type": "stream",
     "text": [
      "/home/ec2-user/SageMaker/mxnet-mnist-byom\r\n"
     ]
    }
   ],
   "source": [
    "!pwd"
   ]
  },
  {
   "cell_type": "code",
   "execution_count": 237,
   "metadata": {},
   "outputs": [],
   "source": [
    "json_file = open('/home/ec2-user/SageMaker/keras_model/'+'model.json', 'r')\n",
    "loaded_model_json = json_file.read()\n",
    "json_file.close()\n",
    "loaded_model = model_from_json(loaded_model_json)"
   ]
  },
  {
   "cell_type": "code",
   "execution_count": 238,
   "metadata": {},
   "outputs": [],
   "source": [
    "save_dir = \"../keras_model/\"\n",
    "model_name = 'model-weights.h5'\n",
    "model_path = os.path.join(save_dir, model_name)\n",
    "model.save(model_path)"
   ]
  },
  {
   "cell_type": "code",
   "execution_count": 239,
   "metadata": {},
   "outputs": [
    {
     "name": "stdout",
     "output_type": "stream",
     "text": [
      "model.json  model-weights.h5\r\n"
     ]
    }
   ],
   "source": [
    "!ls ../keras_model"
   ]
  },
  {
   "cell_type": "code",
   "execution_count": 270,
   "metadata": {},
   "outputs": [
    {
     "name": "stdout",
     "output_type": "stream",
     "text": [
      "    0   1   2   3   4   5   6  7  8  9   ...  14  15 16 17 18 19 20  21 22 23\n",
      "0                                        ...                                 \n",
      "1    1   3                               ...   2   4                  1      \n",
      "2    4   4   4   7   6   1   7           ...                                 \n",
      "3    3   7   1   9   4   6   7           ...                                 \n",
      "4    1   0   0                           ...                                 \n",
      "5    3   3                               ...                                 \n",
      "6    3   3                               ...                                 \n",
      "7                                        ...                                 \n",
      "8                                        ...                                 \n",
      "9                                        ...                                 \n",
      "10                                       ...                                 \n",
      "11                                       ...                                 \n",
      "12                                       ...                                 \n",
      "13   7   4   5                           ...                                 \n",
      "14   7   4   6                           ...                                 \n",
      "15                                       ...                                 \n",
      "16                                       ...                                 \n",
      "17   1                                   ...                                 \n",
      "18   1                                   ...                                 \n",
      "19   5   0                               ...                                 \n",
      "20   5   0                               ...                                 \n",
      "21   1                                   ...                                 \n",
      "\n",
      "[22 rows x 24 columns]\n"
     ]
    }
   ],
   "source": [
    "\n",
    "crop_factor = .1\n",
    "\n",
    "import json\n",
    "import boto3\n",
    "import cv2\n",
    "import numpy as np\n",
    "import pandas as pd\n",
    "import matplotlib.pyplot as plt\n",
    "import csv\n",
    "from pylab import rcParams\n",
    "\n",
    "client = boto3.client('runtime.sagemaker')\n",
    "\n",
    "\n",
    "%matplotlib inline\n",
    "try:\n",
    "    from PIL import Image\n",
    "except ImportError:\n",
    "    import Image\n",
    "# import pytesseract\n",
    "\n",
    "#read your file\n",
    "file=r'3.png'\n",
    "file=r'img_from_pdf/3-100.png'\n",
    "file='img_from_pdf/2-103.png'\n",
    "file=r'kevin_test.png'\n",
    "file = '../5-0.png'\n",
    "# file=r'image_form.png'\n",
    "\n",
    "img = cv2.imread(file,0)\n",
    "img.shape\n",
    "\n",
    "#thresholding the image to a binary image\n",
    "thresh,img_bin = cv2.threshold(img,128,255,cv2.THRESH_BINARY | cv2.THRESH_OTSU)\n",
    "\n",
    "#inverting the image \n",
    "img_bin = 255-img_bin\n",
    "\n",
    "\n",
    "############################################################################################################\n",
    "#countcol(width) of kernel as 100th of total width\n",
    "# # kernel_len = np.array(img).shape[1]//100\n",
    "# kernel_len = np.array(img).shape[1]//100\n",
    "\n",
    "# # Defining a vertical kernel to detect all vertical lines of image \n",
    "# ver_kernel = cv2.getStructuringElement(cv2.MORPH_RECT, (1, kernel_len))\n",
    "# # Defining a horizontal kernel to detect all horizontal lines of image\n",
    "# hor_kernel = cv2.getStructuringElement(cv2.MORPH_RECT, (kernel_len, 1))\n",
    "# # A kernel of 2x2\n",
    "# kernel = cv2.getStructuringElement(cv2.MORPH_RECT, (2, 2))\n",
    "\n",
    "\n",
    "# kernel_len = np.array(img).shape[1]//100\n",
    "kernel_len = np.array(img).shape[1]//800\n",
    "\n",
    "# Defining a vertical kernel to detect all vertical lines of image \n",
    "ver_kernel = cv2.getStructuringElement(cv2.MORPH_RECT, (1, kernel_len))\n",
    "# Defining a horizontal kernel to detect all horizontal lines of image\n",
    "hor_kernel = cv2.getStructuringElement(cv2.MORPH_RECT, (kernel_len, 1))\n",
    "# A kernel of 2x2\n",
    "kernel = cv2.getStructuringElement(cv2.MORPH_RECT, (2, 2))\n",
    "\n",
    "############################################################################################################\n",
    "#Use vertical kernel to detect and save the vertical lines in a jpg\n",
    "image_1 = cv2.erode(img_bin, ver_kernel, iterations=3)\n",
    "vertical_lines = cv2.dilate(image_1, ver_kernel, iterations=3)\n",
    "\n",
    "\n",
    "#Use horizontal kernel to detect and save the horizontal lines in a jpg\n",
    "image_2 = cv2.erode(img_bin, hor_kernel, iterations=3)\n",
    "horizontal_lines = cv2.dilate(image_2, hor_kernel, iterations=3)\n",
    "\n",
    "\n",
    "# Combine horizontal and vertical lines in a new third image, with both having same weight.\n",
    "img_vh = cv2.addWeighted(vertical_lines, 0.5, horizontal_lines, 0.5, 0.0)\n",
    "#Eroding and thesholding the image\n",
    "img_vh = cv2.erode(~img_vh, kernel, iterations=2)\n",
    "thresh, img_vh = cv2.threshold(img_vh,128,255, cv2.THRESH_BINARY | cv2.THRESH_OTSU)\n",
    "cv2.imwrite(\"img_vh.jpg\", img_vh)\n",
    "bitxor = cv2.bitwise_xor(img,img_vh)\n",
    "bitnot = cv2.bitwise_not(bitxor)\n",
    "\n",
    "\n",
    "#Plotting the generated image\n",
    "# plotting = plt.imshow(bitnot,cmap='gray')\n",
    "# plt.show()\n",
    "\n",
    "# Detect contours for following box detection\n",
    "# contours, hierarchy = cv2.findContours(img_vh, cv2.RETR_TREE, cv2.CHAIN_APPROX_SIMPLE)\n",
    "\n",
    "_, contours, _= cv2.findContours(img_vh, cv2.RETR_TREE, cv2.CHAIN_APPROX_SIMPLE)\n",
    "\n",
    "def sort_contours(cnts, method=\"left-to-right\"):\n",
    "    # initialize the reverse flag and sort index\n",
    "    reverse = False\n",
    "    i = 0\n",
    "    # handle if we need to sort in reverse\n",
    "    if method == \"right-to-left\" or method == \"bottom-to-top\":\n",
    "        reverse = True\n",
    "    # handle if we are sorting against the y-coordinate rather than\n",
    "    # the x-coordinate of the bounding box\n",
    "    if method == \"top-to-bottom\" or method == \"bottom-to-top\":\n",
    "        i = 1\n",
    "    # construct the list of bounding boxes and sort them from top to\n",
    "    # bottom\n",
    "    boundingBoxes = [cv2.boundingRect(c) for c in cnts]\n",
    "    (cnts, boundingBoxes) = zip(*sorted(zip(cnts, boundingBoxes),\n",
    "    key=lambda b:b[1][i], reverse=reverse))\n",
    "    # return the list of sorted contours and bounding boxes\n",
    "    return (cnts, boundingBoxes)\n",
    "\n",
    "# Sort all the contours by top to bottom.\n",
    "contours, boundingBoxes = sort_contours(contours, method=\"top-to-bottom\")\n",
    "\n",
    "#Creating a list of heights for all detected boxes\n",
    "heights = [boundingBoxes[i][3] for i in range(len(boundingBoxes))]\n",
    "\n",
    "#Get mean of heights\n",
    "mean = np.mean(heights)\n",
    "\n",
    "#Create list box to store all boxes in  \n",
    "box = []\n",
    "# Get position (x,y), width and height for every contour and show the contour on image\n",
    "for c in contours:\n",
    "    x, y, w, h = cv2.boundingRect(c)\n",
    "#     if (w<1000 and h<500):\n",
    "#     print(w)\n",
    "########################################################################\n",
    "#####################   updated needed     #############################\n",
    "########################################################################\n",
    "#     if (w<75 and h<55 and w/h< 2 and w/h> 1):\n",
    "    if (w < 400 and w > 100 and w/h< 2 and w/h> 1):\n",
    "#         print(w)\n",
    "        image = cv2.rectangle(img,(x,y),(x+w,y+h),(0,255,0),2)\n",
    "        box.append([x,y,w,h])\n",
    "########################################################################\n",
    "########################################################################\n",
    "########################################################################        \n",
    "# plotting = plt.imshow(image,cmap='gray')\n",
    "# plt.show()\n",
    "\n",
    "#Creating two lists to define row and column in which cell is located\n",
    "row=[]\n",
    "column=[]\n",
    "j=0\n",
    "#Sorting the boxes to their respective row and column\n",
    "for i in range(len(box)):    \n",
    "        \n",
    "    if(i==0):\n",
    "        column.append(box[i])\n",
    "        previous=box[i]    \n",
    "    \n",
    "    else:\n",
    "        if(box[i][1]<=previous[1]+mean/2):\n",
    "            column.append(box[i])\n",
    "            previous=box[i]            \n",
    "            \n",
    "            if(i==len(box)-1):\n",
    "                row.append(column)        \n",
    "            \n",
    "        else:\n",
    "            row.append(column)\n",
    "            column=[]\n",
    "            previous = box[i]\n",
    "            column.append(box[i])\n",
    "            \n",
    "# print(column)\n",
    "# print(row)\n",
    "\n",
    "#calculating maximum number of cells\n",
    "countcol = 0\n",
    "for i in range(len(row)):\n",
    "    countcol = len(row[i])\n",
    "    if countcol > countcol:\n",
    "        countcol = countcol\n",
    "\n",
    "#Retrieving the center of each column\n",
    "\n",
    "center = [int(row[i][j][0]+row[i][j][2]/2) for j in range(len(row[i])) if row[0]]\n",
    "\n",
    "center=np.array(center)\n",
    "center.sort()\n",
    "# print(center)\n",
    "#Regarding the distance to the columns center, the boxes are arranged in respective order\n",
    "\n",
    "finalboxes = []\n",
    "for i in range(len(row)): #000000000000    range(len(row))   00000000000000000000000000000000000000000000000000000000000000000000000000\n",
    "    lis=[]\n",
    "    for k in range(countcol):\n",
    "        lis.append([])\n",
    "    for j in range(len(row[i])):\n",
    "        diff = abs(center-(row[i][j][0]+row[i][j][2]/4))\n",
    "        minimum = min(diff)\n",
    "        indexing = list(diff).index(minimum)\n",
    "        lis[indexing].append(row[i][j])\n",
    "    finalboxes.append(lis)\n",
    "\n",
    "\n",
    "#from every single image-based cell/box the strings are extracted via pytesseract and stored in a list\n",
    "outer=[]\n",
    "pic = 0\n",
    "meanvals = []\n",
    "for i in range(len(finalboxes)):\n",
    "    for j in range(len(finalboxes[i])):\n",
    "        inner=''\n",
    "        if(len(finalboxes[i][j])==0):\n",
    "            outer.append(' ')\n",
    "        else:\n",
    "            for k in range(len(finalboxes[i][j])):\n",
    "                y,x,w,h = finalboxes[i][j][k][0],finalboxes[i][j][k][1], finalboxes[i][j][k][2],finalboxes[i][j][k][3]\n",
    "                finalimg = bitnot[x:x+h, y:y+w]\n",
    "                kernel = cv2.getStructuringElement(cv2.MORPH_RECT, (2, 1))\n",
    "                border = cv2.copyMakeBorder(finalimg,2,2,2,2, cv2.BORDER_CONSTANT,value=[255,255])\n",
    "                resizing = cv2.resize(border, None, fx=2, fy=2, interpolation=cv2.INTER_CUBIC)\n",
    "                dim = (64, 64)\n",
    "                resizing = cv2.resize(resizing, dim, interpolation = cv2.INTER_AREA)\n",
    "                s0 = resizing.shape[0]\n",
    "                s1 = resizing.shape[1]\n",
    "                im_gray = resizing[int(s0*crop_factor):int(s0*(1-crop_factor)), int(s1*crop_factor):int(s1*(1-crop_factor))]\n",
    "\n",
    "                im_gray = im_gray/(255*255)\n",
    "                dim = (28, 28)\n",
    "                im_gray = cv2.resize(im_gray, dim, interpolation = cv2.INTER_AREA)\n",
    "\n",
    "                im_gray = im_gray.astype('float32')\n",
    "     \n",
    "                #################\n",
    "                pred = model.predict(im_gray.reshape(1, 784))          \n",
    "                ###################\n",
    "\n",
    "                out = pred.argmax()\n",
    "                if out ==10:\n",
    "                    out = ''\n",
    "                inner = inner +\" \"+ str(out)\n",
    "            outer.append(inner)\n",
    "        \n",
    "#Creating a dataframe of the generated OCR list\n",
    "arr = np.array(outer)\n",
    "dataframe = pd.DataFrame(arr.reshape(len(row), countcol))\n",
    "print(dataframe)\n",
    "data = dataframe.style.set_properties(align=\"left\")\n",
    "#Converting it in a excel-file\n",
    "data.to_excel(file.split('/')[-1].split('.')[0]+'.xlsx')"
   ]
  },
  {
   "cell_type": "code",
   "execution_count": 181,
   "metadata": {},
   "outputs": [],
   "source": [
    "img"
   ]
  },
  {
   "cell_type": "code",
   "execution_count": 185,
   "metadata": {},
   "outputs": [],
   "source": [
    "file = '../0-0.png'"
   ]
  },
  {
   "cell_type": "code",
   "execution_count": 256,
   "metadata": {},
   "outputs": [
    {
     "data": {
      "text/plain": [
       "'4-0.xlsx'"
      ]
     },
     "execution_count": 256,
     "metadata": {},
     "output_type": "execute_result"
    }
   ],
   "source": [
    "file.split('/')[-1].split('.')[0]+'.xlsx'"
   ]
  },
  {
   "cell_type": "code",
   "execution_count": null,
   "metadata": {},
   "outputs": [],
   "source": []
  }
 ],
 "metadata": {
  "kernelspec": {
   "display_name": "Python 3",
   "language": "python",
   "name": "python3"
  },
  "language_info": {
   "codemirror_mode": {
    "name": "ipython",
    "version": 3
   },
   "file_extension": ".py",
   "mimetype": "text/x-python",
   "name": "python",
   "nbconvert_exporter": "python",
   "pygments_lexer": "ipython3",
   "version": "3.7.3"
  }
 },
 "nbformat": 4,
 "nbformat_minor": 4
}
